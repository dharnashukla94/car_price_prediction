{
  "nbformat": 4,
  "nbformat_minor": 0,
  "metadata": {
    "colab": {
      "name": "Car_price.ipynb",
      "provenance": [],
      "collapsed_sections": [],
      "mount_file_id": "https://github.com/dharnashukla94/Used_Car_Price_Prediction/blob/master/Car_price.ipynb",
      "authorship_tag": "ABX9TyPsMJY2K74tlRlvpymrxIRH",
      "include_colab_link": true
    },
    "kernelspec": {
      "name": "python3",
      "display_name": "Python 3"
    },
    "accelerator": "GPU"
  },
  "cells": [
    {
      "cell_type": "markdown",
      "metadata": {
        "id": "view-in-github",
        "colab_type": "text"
      },
      "source": [
        "<a href=\"https://colab.research.google.com/github/dharnashukla94/car_price_prediction/blob/main/Car_price.ipynb\" target=\"_parent\"><img src=\"https://colab.research.google.com/assets/colab-badge.svg\" alt=\"Open In Colab\"/></a>"
      ]
    },
    {
      "cell_type": "code",
      "metadata": {
        "id": "g33EuMDEJYhE"
      },
      "source": [
        "# import numpy as np \n",
        "import pandas as pd \n",
        "import numpy as np\n",
        "import matplotlib.pyplot as plt\n",
        "from scipy import stats\n",
        "import seaborn as sns\n",
        "\n",
        "# preperation\n",
        "from sklearn.model_selection import train_test_split,KFold\n",
        "from sklearn import preprocessing\n",
        "from sklearn import model_selection\n",
        "from sklearn.preprocessing import binarize, LabelEncoder, MinMaxScaler\n",
        "from sklearn.feature_selection import SelectKBest, f_regression,SelectFromModel\n",
        "from sklearn.linear_model import Ridge\n",
        "\n",
        "\n",
        "# models\n",
        "import random\n",
        "from sklearn import metrics\n",
        "from sklearn.ensemble import RandomForestRegressor\n",
        "from sklearn.naive_bayes import GaussianNB\n",
        "from sklearn.svm import SVC \n",
        "from sklearn.neighbors import KNeighborsRegressor\n",
        "from sklearn.tree import DecisionTreeRegressor\n",
        "from sklearn.ensemble import GradientBoostingRegressor, AdaBoostClassifier\n",
        "from xgboost import XGBRegressor\n",
        "from sklearn.linear_model import LinearRegression\n",
        "# Evaluation \n",
        "import math\n",
        "from sklearn.metrics import mean_absolute_error, r2_score\n",
        "from sklearn.metrics import mean_squared_error\n",
        "import pickle\n",
        "\n",
        "random.seed(8)\n"
      ],
      "execution_count": 1,
      "outputs": []
    },
    {
      "cell_type": "code",
      "metadata": {
        "id": "4SJuNrZXJwve",
        "colab": {
          "base_uri": "https://localhost:8080/"
        },
        "outputId": "5138642a-2760-41ce-d556-d6f85ad06f21"
      },
      "source": [
        "# Loading the dataset into Pandas\n",
        "    \n",
        "\n",
        "path = '/content/drive/MyDrive/autos.csv'\n",
        "data_df = pd.read_csv(path , encoding=\"ISO-8859-1\")\n",
        "\n",
        "\n",
        "#Pandas: whats the data row count?\n",
        "data_df.shape\n",
        "    \n",
        "#Pandas: whats the distribution of the data?\n",
        "data_df.describe()\n",
        "    \n",
        "#Pandas: What types of data do i have?\n",
        "data_df.info()    \n",
        "  "
      ],
      "execution_count": 3,
      "outputs": [
        {
          "output_type": "stream",
          "text": [
            "<class 'pandas.core.frame.DataFrame'>\n",
            "RangeIndex: 371528 entries, 0 to 371527\n",
            "Data columns (total 20 columns):\n",
            " #   Column               Non-Null Count   Dtype \n",
            "---  ------               --------------   ----- \n",
            " 0   dateCrawled          371528 non-null  object\n",
            " 1   name                 371528 non-null  object\n",
            " 2   seller               371528 non-null  object\n",
            " 3   offerType            371528 non-null  object\n",
            " 4   price                371528 non-null  int64 \n",
            " 5   abtest               371528 non-null  object\n",
            " 6   vehicleType          333659 non-null  object\n",
            " 7   yearOfRegistration   371528 non-null  int64 \n",
            " 8   gearbox              351319 non-null  object\n",
            " 9   powerPS              371528 non-null  int64 \n",
            " 10  model                351044 non-null  object\n",
            " 11  kilometer            371528 non-null  int64 \n",
            " 12  monthOfRegistration  371528 non-null  int64 \n",
            " 13  fuelType             338142 non-null  object\n",
            " 14  brand                371528 non-null  object\n",
            " 15  notRepairedDamage    299468 non-null  object\n",
            " 16  dateCreated          371528 non-null  object\n",
            " 17  nrOfPictures         371528 non-null  int64 \n",
            " 18  postalCode           371528 non-null  int64 \n",
            " 19  lastSeen             371528 non-null  object\n",
            "dtypes: int64(7), object(13)\n",
            "memory usage: 56.7+ MB\n"
          ],
          "name": "stdout"
        }
      ]
    },
    {
      "cell_type": "code",
      "metadata": {
        "id": "xnNFNOXcK2xI",
        "colab": {
          "base_uri": "https://localhost:8080/",
          "height": 1000
        },
        "outputId": "bf602b8f-2565-4a8e-b1a0-bdb23ba15bbd"
      },
      "source": [
        "data_df.head(20)"
      ],
      "execution_count": 4,
      "outputs": [
        {
          "output_type": "execute_result",
          "data": {
            "text/html": [
              "<div>\n",
              "<style scoped>\n",
              "    .dataframe tbody tr th:only-of-type {\n",
              "        vertical-align: middle;\n",
              "    }\n",
              "\n",
              "    .dataframe tbody tr th {\n",
              "        vertical-align: top;\n",
              "    }\n",
              "\n",
              "    .dataframe thead th {\n",
              "        text-align: right;\n",
              "    }\n",
              "</style>\n",
              "<table border=\"1\" class=\"dataframe\">\n",
              "  <thead>\n",
              "    <tr style=\"text-align: right;\">\n",
              "      <th></th>\n",
              "      <th>dateCrawled</th>\n",
              "      <th>name</th>\n",
              "      <th>seller</th>\n",
              "      <th>offerType</th>\n",
              "      <th>price</th>\n",
              "      <th>abtest</th>\n",
              "      <th>vehicleType</th>\n",
              "      <th>yearOfRegistration</th>\n",
              "      <th>gearbox</th>\n",
              "      <th>powerPS</th>\n",
              "      <th>model</th>\n",
              "      <th>kilometer</th>\n",
              "      <th>monthOfRegistration</th>\n",
              "      <th>fuelType</th>\n",
              "      <th>brand</th>\n",
              "      <th>notRepairedDamage</th>\n",
              "      <th>dateCreated</th>\n",
              "      <th>nrOfPictures</th>\n",
              "      <th>postalCode</th>\n",
              "      <th>lastSeen</th>\n",
              "    </tr>\n",
              "  </thead>\n",
              "  <tbody>\n",
              "    <tr>\n",
              "      <th>0</th>\n",
              "      <td>2016-03-24 11:52:17</td>\n",
              "      <td>Golf_3_1.6</td>\n",
              "      <td>privat</td>\n",
              "      <td>Angebot</td>\n",
              "      <td>480</td>\n",
              "      <td>test</td>\n",
              "      <td>NaN</td>\n",
              "      <td>1993</td>\n",
              "      <td>manuell</td>\n",
              "      <td>0</td>\n",
              "      <td>golf</td>\n",
              "      <td>150000</td>\n",
              "      <td>0</td>\n",
              "      <td>benzin</td>\n",
              "      <td>volkswagen</td>\n",
              "      <td>NaN</td>\n",
              "      <td>2016-03-24 00:00:00</td>\n",
              "      <td>0</td>\n",
              "      <td>70435</td>\n",
              "      <td>2016-04-07 03:16:57</td>\n",
              "    </tr>\n",
              "    <tr>\n",
              "      <th>1</th>\n",
              "      <td>2016-03-24 10:58:45</td>\n",
              "      <td>A5_Sportback_2.7_Tdi</td>\n",
              "      <td>privat</td>\n",
              "      <td>Angebot</td>\n",
              "      <td>18300</td>\n",
              "      <td>test</td>\n",
              "      <td>coupe</td>\n",
              "      <td>2011</td>\n",
              "      <td>manuell</td>\n",
              "      <td>190</td>\n",
              "      <td>NaN</td>\n",
              "      <td>125000</td>\n",
              "      <td>5</td>\n",
              "      <td>diesel</td>\n",
              "      <td>audi</td>\n",
              "      <td>ja</td>\n",
              "      <td>2016-03-24 00:00:00</td>\n",
              "      <td>0</td>\n",
              "      <td>66954</td>\n",
              "      <td>2016-04-07 01:46:50</td>\n",
              "    </tr>\n",
              "    <tr>\n",
              "      <th>2</th>\n",
              "      <td>2016-03-14 12:52:21</td>\n",
              "      <td>Jeep_Grand_Cherokee_\"Overland\"</td>\n",
              "      <td>privat</td>\n",
              "      <td>Angebot</td>\n",
              "      <td>9800</td>\n",
              "      <td>test</td>\n",
              "      <td>suv</td>\n",
              "      <td>2004</td>\n",
              "      <td>automatik</td>\n",
              "      <td>163</td>\n",
              "      <td>grand</td>\n",
              "      <td>125000</td>\n",
              "      <td>8</td>\n",
              "      <td>diesel</td>\n",
              "      <td>jeep</td>\n",
              "      <td>NaN</td>\n",
              "      <td>2016-03-14 00:00:00</td>\n",
              "      <td>0</td>\n",
              "      <td>90480</td>\n",
              "      <td>2016-04-05 12:47:46</td>\n",
              "    </tr>\n",
              "    <tr>\n",
              "      <th>3</th>\n",
              "      <td>2016-03-17 16:54:04</td>\n",
              "      <td>GOLF_4_1_4__3TÜRER</td>\n",
              "      <td>privat</td>\n",
              "      <td>Angebot</td>\n",
              "      <td>1500</td>\n",
              "      <td>test</td>\n",
              "      <td>kleinwagen</td>\n",
              "      <td>2001</td>\n",
              "      <td>manuell</td>\n",
              "      <td>75</td>\n",
              "      <td>golf</td>\n",
              "      <td>150000</td>\n",
              "      <td>6</td>\n",
              "      <td>benzin</td>\n",
              "      <td>volkswagen</td>\n",
              "      <td>nein</td>\n",
              "      <td>2016-03-17 00:00:00</td>\n",
              "      <td>0</td>\n",
              "      <td>91074</td>\n",
              "      <td>2016-03-17 17:40:17</td>\n",
              "    </tr>\n",
              "    <tr>\n",
              "      <th>4</th>\n",
              "      <td>2016-03-31 17:25:20</td>\n",
              "      <td>Skoda_Fabia_1.4_TDI_PD_Classic</td>\n",
              "      <td>privat</td>\n",
              "      <td>Angebot</td>\n",
              "      <td>3600</td>\n",
              "      <td>test</td>\n",
              "      <td>kleinwagen</td>\n",
              "      <td>2008</td>\n",
              "      <td>manuell</td>\n",
              "      <td>69</td>\n",
              "      <td>fabia</td>\n",
              "      <td>90000</td>\n",
              "      <td>7</td>\n",
              "      <td>diesel</td>\n",
              "      <td>skoda</td>\n",
              "      <td>nein</td>\n",
              "      <td>2016-03-31 00:00:00</td>\n",
              "      <td>0</td>\n",
              "      <td>60437</td>\n",
              "      <td>2016-04-06 10:17:21</td>\n",
              "    </tr>\n",
              "    <tr>\n",
              "      <th>5</th>\n",
              "      <td>2016-04-04 17:36:23</td>\n",
              "      <td>BMW_316i___e36_Limousine___Bastlerfahrzeug__Ex...</td>\n",
              "      <td>privat</td>\n",
              "      <td>Angebot</td>\n",
              "      <td>650</td>\n",
              "      <td>test</td>\n",
              "      <td>limousine</td>\n",
              "      <td>1995</td>\n",
              "      <td>manuell</td>\n",
              "      <td>102</td>\n",
              "      <td>3er</td>\n",
              "      <td>150000</td>\n",
              "      <td>10</td>\n",
              "      <td>benzin</td>\n",
              "      <td>bmw</td>\n",
              "      <td>ja</td>\n",
              "      <td>2016-04-04 00:00:00</td>\n",
              "      <td>0</td>\n",
              "      <td>33775</td>\n",
              "      <td>2016-04-06 19:17:07</td>\n",
              "    </tr>\n",
              "    <tr>\n",
              "      <th>6</th>\n",
              "      <td>2016-04-01 20:48:51</td>\n",
              "      <td>Peugeot_206_CC_110_Platinum</td>\n",
              "      <td>privat</td>\n",
              "      <td>Angebot</td>\n",
              "      <td>2200</td>\n",
              "      <td>test</td>\n",
              "      <td>cabrio</td>\n",
              "      <td>2004</td>\n",
              "      <td>manuell</td>\n",
              "      <td>109</td>\n",
              "      <td>2_reihe</td>\n",
              "      <td>150000</td>\n",
              "      <td>8</td>\n",
              "      <td>benzin</td>\n",
              "      <td>peugeot</td>\n",
              "      <td>nein</td>\n",
              "      <td>2016-04-01 00:00:00</td>\n",
              "      <td>0</td>\n",
              "      <td>67112</td>\n",
              "      <td>2016-04-05 18:18:39</td>\n",
              "    </tr>\n",
              "    <tr>\n",
              "      <th>7</th>\n",
              "      <td>2016-03-21 18:54:38</td>\n",
              "      <td>VW_Derby_Bj_80__Scheunenfund</td>\n",
              "      <td>privat</td>\n",
              "      <td>Angebot</td>\n",
              "      <td>0</td>\n",
              "      <td>test</td>\n",
              "      <td>limousine</td>\n",
              "      <td>1980</td>\n",
              "      <td>manuell</td>\n",
              "      <td>50</td>\n",
              "      <td>andere</td>\n",
              "      <td>40000</td>\n",
              "      <td>7</td>\n",
              "      <td>benzin</td>\n",
              "      <td>volkswagen</td>\n",
              "      <td>nein</td>\n",
              "      <td>2016-03-21 00:00:00</td>\n",
              "      <td>0</td>\n",
              "      <td>19348</td>\n",
              "      <td>2016-03-25 16:47:58</td>\n",
              "    </tr>\n",
              "    <tr>\n",
              "      <th>8</th>\n",
              "      <td>2016-04-04 23:42:13</td>\n",
              "      <td>Ford_C___Max_Titanium_1_0_L_EcoBoost</td>\n",
              "      <td>privat</td>\n",
              "      <td>Angebot</td>\n",
              "      <td>14500</td>\n",
              "      <td>control</td>\n",
              "      <td>bus</td>\n",
              "      <td>2014</td>\n",
              "      <td>manuell</td>\n",
              "      <td>125</td>\n",
              "      <td>c_max</td>\n",
              "      <td>30000</td>\n",
              "      <td>8</td>\n",
              "      <td>benzin</td>\n",
              "      <td>ford</td>\n",
              "      <td>NaN</td>\n",
              "      <td>2016-04-04 00:00:00</td>\n",
              "      <td>0</td>\n",
              "      <td>94505</td>\n",
              "      <td>2016-04-04 23:42:13</td>\n",
              "    </tr>\n",
              "    <tr>\n",
              "      <th>9</th>\n",
              "      <td>2016-03-17 10:53:50</td>\n",
              "      <td>VW_Golf_4_5_tuerig_zu_verkaufen_mit_Anhaengerk...</td>\n",
              "      <td>privat</td>\n",
              "      <td>Angebot</td>\n",
              "      <td>999</td>\n",
              "      <td>test</td>\n",
              "      <td>kleinwagen</td>\n",
              "      <td>1998</td>\n",
              "      <td>manuell</td>\n",
              "      <td>101</td>\n",
              "      <td>golf</td>\n",
              "      <td>150000</td>\n",
              "      <td>0</td>\n",
              "      <td>NaN</td>\n",
              "      <td>volkswagen</td>\n",
              "      <td>NaN</td>\n",
              "      <td>2016-03-17 00:00:00</td>\n",
              "      <td>0</td>\n",
              "      <td>27472</td>\n",
              "      <td>2016-03-31 17:17:06</td>\n",
              "    </tr>\n",
              "    <tr>\n",
              "      <th>10</th>\n",
              "      <td>2016-03-26 19:54:18</td>\n",
              "      <td>Mazda_3_1.6_Sport</td>\n",
              "      <td>privat</td>\n",
              "      <td>Angebot</td>\n",
              "      <td>2000</td>\n",
              "      <td>control</td>\n",
              "      <td>limousine</td>\n",
              "      <td>2004</td>\n",
              "      <td>manuell</td>\n",
              "      <td>105</td>\n",
              "      <td>3_reihe</td>\n",
              "      <td>150000</td>\n",
              "      <td>12</td>\n",
              "      <td>benzin</td>\n",
              "      <td>mazda</td>\n",
              "      <td>nein</td>\n",
              "      <td>2016-03-26 00:00:00</td>\n",
              "      <td>0</td>\n",
              "      <td>96224</td>\n",
              "      <td>2016-04-06 10:45:34</td>\n",
              "    </tr>\n",
              "    <tr>\n",
              "      <th>11</th>\n",
              "      <td>2016-04-07 10:06:22</td>\n",
              "      <td>Volkswagen_Passat_Variant_2.0_TDI_Comfortline</td>\n",
              "      <td>privat</td>\n",
              "      <td>Angebot</td>\n",
              "      <td>2799</td>\n",
              "      <td>control</td>\n",
              "      <td>kombi</td>\n",
              "      <td>2005</td>\n",
              "      <td>manuell</td>\n",
              "      <td>140</td>\n",
              "      <td>passat</td>\n",
              "      <td>150000</td>\n",
              "      <td>12</td>\n",
              "      <td>diesel</td>\n",
              "      <td>volkswagen</td>\n",
              "      <td>ja</td>\n",
              "      <td>2016-04-07 00:00:00</td>\n",
              "      <td>0</td>\n",
              "      <td>57290</td>\n",
              "      <td>2016-04-07 10:25:17</td>\n",
              "    </tr>\n",
              "    <tr>\n",
              "      <th>12</th>\n",
              "      <td>2016-03-15 22:49:09</td>\n",
              "      <td>VW_Passat_Facelift_35i__\"7Sitzer\"</td>\n",
              "      <td>privat</td>\n",
              "      <td>Angebot</td>\n",
              "      <td>999</td>\n",
              "      <td>control</td>\n",
              "      <td>kombi</td>\n",
              "      <td>1995</td>\n",
              "      <td>manuell</td>\n",
              "      <td>115</td>\n",
              "      <td>passat</td>\n",
              "      <td>150000</td>\n",
              "      <td>11</td>\n",
              "      <td>benzin</td>\n",
              "      <td>volkswagen</td>\n",
              "      <td>NaN</td>\n",
              "      <td>2016-03-15 00:00:00</td>\n",
              "      <td>0</td>\n",
              "      <td>37269</td>\n",
              "      <td>2016-04-01 13:16:16</td>\n",
              "    </tr>\n",
              "    <tr>\n",
              "      <th>13</th>\n",
              "      <td>2016-03-21 21:37:40</td>\n",
              "      <td>VW_PASSAT_1.9_TDI_131_PS_LEDER</td>\n",
              "      <td>privat</td>\n",
              "      <td>Angebot</td>\n",
              "      <td>2500</td>\n",
              "      <td>control</td>\n",
              "      <td>kombi</td>\n",
              "      <td>2004</td>\n",
              "      <td>manuell</td>\n",
              "      <td>131</td>\n",
              "      <td>passat</td>\n",
              "      <td>150000</td>\n",
              "      <td>2</td>\n",
              "      <td>NaN</td>\n",
              "      <td>volkswagen</td>\n",
              "      <td>nein</td>\n",
              "      <td>2016-03-21 00:00:00</td>\n",
              "      <td>0</td>\n",
              "      <td>90762</td>\n",
              "      <td>2016-03-23 02:50:54</td>\n",
              "    </tr>\n",
              "    <tr>\n",
              "      <th>14</th>\n",
              "      <td>2016-03-21 12:57:01</td>\n",
              "      <td>Nissan_Navara_2.5DPF_SE4x4_Klima_Sitzheizg_Blu...</td>\n",
              "      <td>privat</td>\n",
              "      <td>Angebot</td>\n",
              "      <td>17999</td>\n",
              "      <td>control</td>\n",
              "      <td>suv</td>\n",
              "      <td>2011</td>\n",
              "      <td>manuell</td>\n",
              "      <td>190</td>\n",
              "      <td>navara</td>\n",
              "      <td>70000</td>\n",
              "      <td>3</td>\n",
              "      <td>diesel</td>\n",
              "      <td>nissan</td>\n",
              "      <td>nein</td>\n",
              "      <td>2016-03-21 00:00:00</td>\n",
              "      <td>0</td>\n",
              "      <td>4177</td>\n",
              "      <td>2016-04-06 07:45:42</td>\n",
              "    </tr>\n",
              "    <tr>\n",
              "      <th>15</th>\n",
              "      <td>2016-03-11 21:39:15</td>\n",
              "      <td>KA_Lufthansa_Edition_450_VB</td>\n",
              "      <td>privat</td>\n",
              "      <td>Angebot</td>\n",
              "      <td>450</td>\n",
              "      <td>test</td>\n",
              "      <td>kleinwagen</td>\n",
              "      <td>1910</td>\n",
              "      <td>NaN</td>\n",
              "      <td>0</td>\n",
              "      <td>ka</td>\n",
              "      <td>5000</td>\n",
              "      <td>0</td>\n",
              "      <td>benzin</td>\n",
              "      <td>ford</td>\n",
              "      <td>NaN</td>\n",
              "      <td>2016-03-11 00:00:00</td>\n",
              "      <td>0</td>\n",
              "      <td>24148</td>\n",
              "      <td>2016-03-19 08:46:47</td>\n",
              "    </tr>\n",
              "    <tr>\n",
              "      <th>16</th>\n",
              "      <td>2016-04-01 12:46:46</td>\n",
              "      <td>Polo_6n_1_4</td>\n",
              "      <td>privat</td>\n",
              "      <td>Angebot</td>\n",
              "      <td>300</td>\n",
              "      <td>test</td>\n",
              "      <td>NaN</td>\n",
              "      <td>2016</td>\n",
              "      <td>NaN</td>\n",
              "      <td>60</td>\n",
              "      <td>polo</td>\n",
              "      <td>150000</td>\n",
              "      <td>0</td>\n",
              "      <td>benzin</td>\n",
              "      <td>volkswagen</td>\n",
              "      <td>NaN</td>\n",
              "      <td>2016-04-01 00:00:00</td>\n",
              "      <td>0</td>\n",
              "      <td>38871</td>\n",
              "      <td>2016-04-01 12:46:46</td>\n",
              "    </tr>\n",
              "    <tr>\n",
              "      <th>17</th>\n",
              "      <td>2016-03-20 10:25:19</td>\n",
              "      <td>Renault_Twingo_1.2_16V_Aut.</td>\n",
              "      <td>privat</td>\n",
              "      <td>Angebot</td>\n",
              "      <td>1750</td>\n",
              "      <td>control</td>\n",
              "      <td>kleinwagen</td>\n",
              "      <td>2004</td>\n",
              "      <td>automatik</td>\n",
              "      <td>75</td>\n",
              "      <td>twingo</td>\n",
              "      <td>150000</td>\n",
              "      <td>2</td>\n",
              "      <td>benzin</td>\n",
              "      <td>renault</td>\n",
              "      <td>nein</td>\n",
              "      <td>2016-03-20 00:00:00</td>\n",
              "      <td>0</td>\n",
              "      <td>65599</td>\n",
              "      <td>2016-04-06 13:16:07</td>\n",
              "    </tr>\n",
              "    <tr>\n",
              "      <th>18</th>\n",
              "      <td>2016-03-23 15:48:05</td>\n",
              "      <td>Ford_C_MAX_2.0_TDCi_DPF_Titanium</td>\n",
              "      <td>privat</td>\n",
              "      <td>Angebot</td>\n",
              "      <td>7550</td>\n",
              "      <td>test</td>\n",
              "      <td>bus</td>\n",
              "      <td>2007</td>\n",
              "      <td>manuell</td>\n",
              "      <td>136</td>\n",
              "      <td>c_max</td>\n",
              "      <td>150000</td>\n",
              "      <td>6</td>\n",
              "      <td>diesel</td>\n",
              "      <td>ford</td>\n",
              "      <td>nein</td>\n",
              "      <td>2016-03-23 00:00:00</td>\n",
              "      <td>0</td>\n",
              "      <td>88361</td>\n",
              "      <td>2016-04-05 18:45:11</td>\n",
              "    </tr>\n",
              "    <tr>\n",
              "      <th>19</th>\n",
              "      <td>2016-04-01 22:55:47</td>\n",
              "      <td>Mercedes_Benz_A_160_Classic_Klima</td>\n",
              "      <td>privat</td>\n",
              "      <td>Angebot</td>\n",
              "      <td>1850</td>\n",
              "      <td>test</td>\n",
              "      <td>bus</td>\n",
              "      <td>2004</td>\n",
              "      <td>manuell</td>\n",
              "      <td>102</td>\n",
              "      <td>a_klasse</td>\n",
              "      <td>150000</td>\n",
              "      <td>1</td>\n",
              "      <td>benzin</td>\n",
              "      <td>mercedes_benz</td>\n",
              "      <td>nein</td>\n",
              "      <td>2016-04-01 00:00:00</td>\n",
              "      <td>0</td>\n",
              "      <td>49565</td>\n",
              "      <td>2016-04-05 22:46:05</td>\n",
              "    </tr>\n",
              "  </tbody>\n",
              "</table>\n",
              "</div>"
            ],
            "text/plain": [
              "            dateCrawled  ...             lastSeen\n",
              "0   2016-03-24 11:52:17  ...  2016-04-07 03:16:57\n",
              "1   2016-03-24 10:58:45  ...  2016-04-07 01:46:50\n",
              "2   2016-03-14 12:52:21  ...  2016-04-05 12:47:46\n",
              "3   2016-03-17 16:54:04  ...  2016-03-17 17:40:17\n",
              "4   2016-03-31 17:25:20  ...  2016-04-06 10:17:21\n",
              "5   2016-04-04 17:36:23  ...  2016-04-06 19:17:07\n",
              "6   2016-04-01 20:48:51  ...  2016-04-05 18:18:39\n",
              "7   2016-03-21 18:54:38  ...  2016-03-25 16:47:58\n",
              "8   2016-04-04 23:42:13  ...  2016-04-04 23:42:13\n",
              "9   2016-03-17 10:53:50  ...  2016-03-31 17:17:06\n",
              "10  2016-03-26 19:54:18  ...  2016-04-06 10:45:34\n",
              "11  2016-04-07 10:06:22  ...  2016-04-07 10:25:17\n",
              "12  2016-03-15 22:49:09  ...  2016-04-01 13:16:16\n",
              "13  2016-03-21 21:37:40  ...  2016-03-23 02:50:54\n",
              "14  2016-03-21 12:57:01  ...  2016-04-06 07:45:42\n",
              "15  2016-03-11 21:39:15  ...  2016-03-19 08:46:47\n",
              "16  2016-04-01 12:46:46  ...  2016-04-01 12:46:46\n",
              "17  2016-03-20 10:25:19  ...  2016-04-06 13:16:07\n",
              "18  2016-03-23 15:48:05  ...  2016-04-05 18:45:11\n",
              "19  2016-04-01 22:55:47  ...  2016-04-05 22:46:05\n",
              "\n",
              "[20 rows x 20 columns]"
            ]
          },
          "metadata": {
            "tags": []
          },
          "execution_count": 4
        }
      ]
    },
    {
      "cell_type": "code",
      "metadata": {
        "id": "TrNp48mALA0C"
      },
      "source": [
        "#data_df['offerType'].unique()\n",
        "#data_df['seller'].unique()\n",
        "#data_df['gearbox'].unique()\n",
        "#data_df['notRepairedDamage'].unique()\n",
        "#data_df['abtest'].unique()\n",
        "#data_df['vehicleType'].unique()\n",
        "#data_df['model'].unique()"
      ],
      "execution_count": 5,
      "outputs": []
    },
    {
      "cell_type": "code",
      "metadata": {
        "id": "NT3gOJHOLBaW"
      },
      "source": [
        "# Replacing German values to english\n",
        "\n",
        "data_df['offerType'] = data_df['offerType'].replace(['Angebot', 'Gesuch'], ['offer','Application'])\n",
        "data_df['seller'] = data_df['seller'].replace(['privat','gewerblich'],['private' ,'commercial'])\n",
        "data_df['gearbox'] = data_df['gearbox'].replace(['manuell' ,'automatik'] , ['manual' ,'autombile'])\n",
        "data_df['notRepairedDamage']  = data_df['notRepairedDamage'].replace(['ja' ,'nein'] , ['yes' ,'no'])\n",
        "data_df['vehicleType'] = data_df['vehicleType'].replace(['kleinwagen' , 'kombi' ,'andere'] , \n",
        "                                                        ['small car' , 'combi', 'others'])"
      ],
      "execution_count": 6,
      "outputs": []
    },
    {
      "cell_type": "code",
      "metadata": {
        "id": "VeMZPYVCLGfc"
      },
      "source": [
        "data_df['model'] = (data_df['model'].replace({'reihe':'range' , 'klasse':'class'}\n",
        "                                             , regex=True))"
      ],
      "execution_count": 7,
      "outputs": []
    },
    {
      "cell_type": "code",
      "metadata": {
        "id": "LZoNplT7LI-2"
      },
      "source": [
        "# # Dropping unnessary columns\n",
        "\n",
        "data_df = data_df.drop(['lastSeen'], axis= 1)\n",
        "data_df = data_df.drop(['dateCrawled'], axis= 1)\n",
        "data_df = data_df.drop(['dateCreated'], axis= 1)\n"
      ],
      "execution_count": 8,
      "outputs": []
    },
    {
      "cell_type": "code",
      "metadata": {
        "id": "cCdvVCZRLLms",
        "colab": {
          "base_uri": "https://localhost:8080/"
        },
        "outputId": "24c6fed6-7ab2-4747-8fd3-83f52afa4ffe"
      },
      "source": [
        "# checking if there exists any NULL values in the train set\n",
        "\n",
        "total = data_df.isnull().sum().sort_values(ascending=False)\n",
        "percent = (data_df.isnull().sum()/data_df.isnull().count()).sort_values(ascending=False)\n",
        "missing_data = pd.concat([total, percent], axis=1, keys=['Total', 'Percent'])\n",
        "missing_data.head(20)\n",
        "print(missing_data)"
      ],
      "execution_count": 9,
      "outputs": [
        {
          "output_type": "stream",
          "text": [
            "                     Total   Percent\n",
            "notRepairedDamage    72060  0.193956\n",
            "vehicleType          37869  0.101928\n",
            "fuelType             33386  0.089861\n",
            "model                20484  0.055134\n",
            "gearbox              20209  0.054394\n",
            "postalCode               0  0.000000\n",
            "seller                   0  0.000000\n",
            "offerType                0  0.000000\n",
            "price                    0  0.000000\n",
            "abtest                   0  0.000000\n",
            "powerPS                  0  0.000000\n",
            "yearOfRegistration       0  0.000000\n",
            "nrOfPictures             0  0.000000\n",
            "kilometer                0  0.000000\n",
            "monthOfRegistration      0  0.000000\n",
            "brand                    0  0.000000\n",
            "name                     0  0.000000\n"
          ],
          "name": "stdout"
        }
      ]
    },
    {
      "cell_type": "code",
      "metadata": {
        "id": "xwWCFl3xnmi3",
        "colab": {
          "base_uri": "https://localhost:8080/"
        },
        "outputId": "e3fa887b-9ae4-44e2-a3eb-54e18ebea19a"
      },
      "source": [
        "data_df[\"gearbox\"].value_counts()\n"
      ],
      "execution_count": 10,
      "outputs": [
        {
          "output_type": "execute_result",
          "data": {
            "text/plain": [
              "manual       274214\n",
              "autombile     77105\n",
              "Name: gearbox, dtype: int64"
            ]
          },
          "metadata": {
            "tags": []
          },
          "execution_count": 10
        }
      ]
    },
    {
      "cell_type": "code",
      "metadata": {
        "id": "Bl3Y_nedn0g3",
        "colab": {
          "base_uri": "https://localhost:8080/"
        },
        "outputId": "1b775790-5631-4712-e1d9-c4d6acc9cb97"
      },
      "source": [
        "data_df[\"brand\"].isnull().sum()"
      ],
      "execution_count": 11,
      "outputs": [
        {
          "output_type": "execute_result",
          "data": {
            "text/plain": [
              "0"
            ]
          },
          "metadata": {
            "tags": []
          },
          "execution_count": 11
        }
      ]
    },
    {
      "cell_type": "code",
      "metadata": {
        "id": "35PFueOyn2c1",
        "colab": {
          "base_uri": "https://localhost:8080/"
        },
        "outputId": "f7e990f3-7eba-469c-e1f9-c6b03b5258d7"
      },
      "source": [
        "data_df.groupby(\"brand\")[\"gearbox\"].value_counts()"
      ],
      "execution_count": 12,
      "outputs": [
        {
          "output_type": "execute_result",
          "data": {
            "text/plain": [
              "brand       gearbox  \n",
              "alfa_romeo  manual        2064\n",
              "            autombile      146\n",
              "audi        manual       20841\n",
              "            autombile    10698\n",
              "bmw         manual       25323\n",
              "                         ...  \n",
              "trabant     autombile        2\n",
              "volkswagen  manual       64655\n",
              "            autombile    10264\n",
              "volvo       manual        2217\n",
              "            autombile      991\n",
              "Name: gearbox, Length: 80, dtype: int64"
            ]
          },
          "metadata": {
            "tags": []
          },
          "execution_count": 12
        }
      ]
    },
    {
      "cell_type": "code",
      "metadata": {
        "id": "JuZ7F3ElsZT3"
      },
      "source": [
        "gearbox = data_df[\"gearbox\"].unique()\n",
        "brand = data_df[\"brand\"].unique()\n",
        "d = {}\n",
        "\n",
        "for i in brand :\n",
        "    m = 0\n",
        "    for j in gearbox :\n",
        "        if data_df[(data_df.gearbox == j) & (data_df.brand == i)].shape[0] > m :\n",
        "            m = data_df[(data_df.gearbox == j) & (data_df.brand == i)].shape[0]\n",
        "            d[i] = j"
      ],
      "execution_count": 13,
      "outputs": []
    },
    {
      "cell_type": "code",
      "metadata": {
        "id": "0VYqR5SNu0H8"
      },
      "source": [
        "for i in brand :\n",
        "    data_df.loc[(data_df.brand == i) & (data_df.gearbox.isnull()) ,\"gearbox\" ] = d[i]"
      ],
      "execution_count": 14,
      "outputs": []
    },
    {
      "cell_type": "code",
      "metadata": {
        "id": "AWpwHJVtvC9F",
        "colab": {
          "base_uri": "https://localhost:8080/"
        },
        "outputId": "4b222de5-bb6c-4f75-d329-f8d22e08b0ad"
      },
      "source": [
        "# no nans in gearbox\n",
        "data_df[\"gearbox\"].isnull().sum()"
      ],
      "execution_count": 15,
      "outputs": [
        {
          "output_type": "execute_result",
          "data": {
            "text/plain": [
              "0"
            ]
          },
          "metadata": {
            "tags": []
          },
          "execution_count": 15
        }
      ]
    },
    {
      "cell_type": "code",
      "metadata": {
        "id": "-tmPTjsFREfz",
        "colab": {
          "base_uri": "https://localhost:8080/"
        },
        "outputId": "d9c30973-d13c-4079-b1e1-15d5936416b5"
      },
      "source": [
        "data_df[\"notRepairedDamage\"].value_counts()\n"
      ],
      "execution_count": 16,
      "outputs": [
        {
          "output_type": "execute_result",
          "data": {
            "text/plain": [
              "no     263182\n",
              "yes     36286\n",
              "Name: notRepairedDamage, dtype: int64"
            ]
          },
          "metadata": {
            "tags": []
          },
          "execution_count": 16
        }
      ]
    },
    {
      "cell_type": "code",
      "metadata": {
        "id": "1F9NMcqNvvWn",
        "colab": {
          "base_uri": "https://localhost:8080/"
        },
        "outputId": "87f58b23-b2da-43c0-f8f3-cb9696fb6464"
      },
      "source": [
        "data_df[\"notRepairedDamage\"].isnull().sum()\n"
      ],
      "execution_count": 17,
      "outputs": [
        {
          "output_type": "execute_result",
          "data": {
            "text/plain": [
              "72060"
            ]
          },
          "metadata": {
            "tags": []
          },
          "execution_count": 17
        }
      ]
    },
    {
      "cell_type": "code",
      "metadata": {
        "id": "8wpRQP37v0dU"
      },
      "source": [
        "data_df[\"notRepairedDamage\"].fillna(\"no\",inplace = True)\n"
      ],
      "execution_count": 18,
      "outputs": []
    },
    {
      "cell_type": "code",
      "metadata": {
        "id": "LKIVTTgWv1KR",
        "colab": {
          "base_uri": "https://localhost:8080/"
        },
        "outputId": "ea78fc72-eda6-4132-a8b3-a3141544b950"
      },
      "source": [
        "data_df[\"notRepairedDamage\"].isnull().sum()\n"
      ],
      "execution_count": 19,
      "outputs": [
        {
          "output_type": "execute_result",
          "data": {
            "text/plain": [
              "0"
            ]
          },
          "metadata": {
            "tags": []
          },
          "execution_count": 19
        }
      ]
    },
    {
      "cell_type": "code",
      "metadata": {
        "id": "poa_4HW5wCKJ",
        "colab": {
          "base_uri": "https://localhost:8080/"
        },
        "outputId": "3cc29db7-5efb-4426-f07d-0cb540912d0e"
      },
      "source": [
        "data_df[\"fuelType\"].value_counts()\n"
      ],
      "execution_count": 20,
      "outputs": [
        {
          "output_type": "execute_result",
          "data": {
            "text/plain": [
              "benzin     223857\n",
              "diesel     107746\n",
              "lpg          5378\n",
              "cng           571\n",
              "hybrid        278\n",
              "andere        208\n",
              "elektro       104\n",
              "Name: fuelType, dtype: int64"
            ]
          },
          "metadata": {
            "tags": []
          },
          "execution_count": 20
        }
      ]
    },
    {
      "cell_type": "code",
      "metadata": {
        "id": "x9a33bHKwC9K"
      },
      "source": [
        "data_df[\"fuelType\"].fillna(\"benzin\",inplace = True)\n"
      ],
      "execution_count": 21,
      "outputs": []
    },
    {
      "cell_type": "code",
      "metadata": {
        "id": "Uam2OJG4wFWg",
        "colab": {
          "base_uri": "https://localhost:8080/"
        },
        "outputId": "959cc3a9-5af2-4f05-fabb-b102a95bad86"
      },
      "source": [
        "data_df.isnull().sum()\n"
      ],
      "execution_count": 22,
      "outputs": [
        {
          "output_type": "execute_result",
          "data": {
            "text/plain": [
              "name                       0\n",
              "seller                     0\n",
              "offerType                  0\n",
              "price                      0\n",
              "abtest                     0\n",
              "vehicleType            37869\n",
              "yearOfRegistration         0\n",
              "gearbox                    0\n",
              "powerPS                    0\n",
              "model                  20484\n",
              "kilometer                  0\n",
              "monthOfRegistration        0\n",
              "fuelType                   0\n",
              "brand                      0\n",
              "notRepairedDamage          0\n",
              "nrOfPictures               0\n",
              "postalCode                 0\n",
              "dtype: int64"
            ]
          },
          "metadata": {
            "tags": []
          },
          "execution_count": 22
        }
      ]
    },
    {
      "cell_type": "code",
      "metadata": {
        "id": "hy0GF7-YwIn3",
        "colab": {
          "base_uri": "https://localhost:8080/"
        },
        "outputId": "71a94b7a-4bf5-4f67-c5db-de20c88d4c0a"
      },
      "source": [
        "data_df[\"vehicleType\"].value_counts()\n"
      ],
      "execution_count": 23,
      "outputs": [
        {
          "output_type": "execute_result",
          "data": {
            "text/plain": [
              "limousine    95894\n",
              "small car    80023\n",
              "combi        67564\n",
              "bus          30201\n",
              "cabrio       22898\n",
              "coupe        19015\n",
              "suv          14707\n",
              "others        3357\n",
              "Name: vehicleType, dtype: int64"
            ]
          },
          "metadata": {
            "tags": []
          },
          "execution_count": 23
        }
      ]
    },
    {
      "cell_type": "code",
      "metadata": {
        "id": "lQbZY0ESwOPy",
        "colab": {
          "base_uri": "https://localhost:8080/"
        },
        "outputId": "39e2cd6e-4380-487a-8cde-24ae0ce6ba81"
      },
      "source": [
        "data_df.groupby(\"fuelType\")[\"vehicleType\"].value_counts()\n"
      ],
      "execution_count": 24,
      "outputs": [
        {
          "output_type": "execute_result",
          "data": {
            "text/plain": [
              "fuelType  vehicleType\n",
              "andere    limousine         51\n",
              "          others            44\n",
              "          small car         29\n",
              "          combi             25\n",
              "          bus               10\n",
              "          suv                9\n",
              "          cabrio             6\n",
              "          coupe              3\n",
              "benzin    small car      72531\n",
              "          limousine      66300\n",
              "          combi          31350\n",
              "          cabrio         20769\n",
              "          coupe          15935\n",
              "          bus            10795\n",
              "          suv             5400\n",
              "          others          1786\n",
              "cng       bus              240\n",
              "          combi            136\n",
              "          small car         80\n",
              "          limousine         40\n",
              "          others            14\n",
              "          suv                4\n",
              "          cabrio             3\n",
              "          coupe              3\n",
              "diesel    combi          34848\n",
              "          limousine      27648\n",
              "          bus            18622\n",
              "          suv             8665\n",
              "          small car       6808\n",
              "          coupe           2737\n",
              "          cabrio          1871\n",
              "          others          1469\n",
              "elektro   small car         51\n",
              "          limousine         15\n",
              "          others            12\n",
              "          coupe              7\n",
              "          cabrio             6\n",
              "          combi              5\n",
              "          suv                3\n",
              "          bus                1\n",
              "hybrid    limousine        151\n",
              "          small car         38\n",
              "          combi             27\n",
              "          suv               20\n",
              "          coupe             18\n",
              "          bus                6\n",
              "          others             2\n",
              "lpg       limousine       1689\n",
              "          combi           1173\n",
              "          suv              606\n",
              "          bus              527\n",
              "          small car        486\n",
              "          coupe            312\n",
              "          cabrio           243\n",
              "          others            30\n",
              "Name: vehicleType, dtype: int64"
            ]
          },
          "metadata": {
            "tags": []
          },
          "execution_count": 24
        }
      ]
    },
    {
      "cell_type": "code",
      "metadata": {
        "id": "Vuw63ZuSwRIg",
        "colab": {
          "base_uri": "https://localhost:8080/"
        },
        "outputId": "fa0e2639-2f7b-4232-c05f-89cd9ca3d278"
      },
      "source": [
        "vehicleType = data_df[\"vehicleType\"].unique()\n",
        "fuelType = data_df[\"fuelType\"].unique()\n",
        "print(fuelType)\n",
        "print(vehicleType)\n",
        "#remove nan \n",
        "vehicleType = np.delete(vehicleType,0)"
      ],
      "execution_count": 25,
      "outputs": [
        {
          "output_type": "stream",
          "text": [
            "['benzin' 'diesel' 'lpg' 'andere' 'hybrid' 'cng' 'elektro']\n",
            "[nan 'coupe' 'suv' 'small car' 'limousine' 'cabrio' 'bus' 'combi' 'others']\n"
          ],
          "name": "stdout"
        }
      ]
    },
    {
      "cell_type": "code",
      "metadata": {
        "id": "QbL3QndZwdQ6"
      },
      "source": [
        "d = {}\n",
        "for i in fuelType :\n",
        "    m = 0\n",
        "    for j in vehicleType :\n",
        "        if data_df[(data_df.vehicleType == j) & (data_df.fuelType == i)].shape[0] > m :\n",
        "            m = data_df[(data_df.vehicleType == j) & (data_df.fuelType == i)].shape[0]\n",
        "            d[i] = j"
      ],
      "execution_count": 26,
      "outputs": []
    },
    {
      "cell_type": "code",
      "metadata": {
        "id": "gpMqoe6ZwNN0"
      },
      "source": [
        "for i in fuelType :\n",
        "    data_df.loc[(data_df.fuelType == i) & (data_df.vehicleType.isnull()) ,\"vehicleType\" ] = d[i]"
      ],
      "execution_count": 27,
      "outputs": []
    },
    {
      "cell_type": "code",
      "metadata": {
        "id": "gjuebur6whxX",
        "colab": {
          "base_uri": "https://localhost:8080/"
        },
        "outputId": "1bbd01a5-fa44-4660-8b03-2c9ddd2722c6"
      },
      "source": [
        "data_df[\"vehicleType\"].isnull().sum()\n"
      ],
      "execution_count": 28,
      "outputs": [
        {
          "output_type": "execute_result",
          "data": {
            "text/plain": [
              "0"
            ]
          },
          "metadata": {
            "tags": []
          },
          "execution_count": 28
        }
      ]
    },
    {
      "cell_type": "code",
      "metadata": {
        "id": "KsO5yO3Awj8_",
        "colab": {
          "base_uri": "https://localhost:8080/"
        },
        "outputId": "b782a79d-a68d-4a39-ecbd-7a5c93cfcf9d"
      },
      "source": [
        "len(data_df[\"model\"].unique())\n"
      ],
      "execution_count": 29,
      "outputs": [
        {
          "output_type": "execute_result",
          "data": {
            "text/plain": [
              "252"
            ]
          },
          "metadata": {
            "tags": []
          },
          "execution_count": 29
        }
      ]
    },
    {
      "cell_type": "code",
      "metadata": {
        "id": "sJVFZijAwn0i",
        "colab": {
          "base_uri": "https://localhost:8080/",
          "height": 35
        },
        "outputId": "4e8d1c8c-4f9f-416a-83c3-7f7983629b4c"
      },
      "source": [
        "data_df[\"model\"].unique()[0]\n"
      ],
      "execution_count": 30,
      "outputs": [
        {
          "output_type": "execute_result",
          "data": {
            "application/vnd.google.colaboratory.intrinsic+json": {
              "type": "string"
            },
            "text/plain": [
              "'golf'"
            ]
          },
          "metadata": {
            "tags": []
          },
          "execution_count": 30
        }
      ]
    },
    {
      "cell_type": "code",
      "metadata": {
        "id": "TQfNxFVwwrbG"
      },
      "source": [
        "data_df[\"model\"].fillna(\"golf\",inplace =True)\n"
      ],
      "execution_count": 31,
      "outputs": []
    },
    {
      "cell_type": "code",
      "metadata": {
        "id": "PoAagSAbwuP3",
        "colab": {
          "base_uri": "https://localhost:8080/"
        },
        "outputId": "ef142032-82ba-4ba7-810f-1962b2b211d1"
      },
      "source": [
        "data_df.isnull().sum()\n"
      ],
      "execution_count": 32,
      "outputs": [
        {
          "output_type": "execute_result",
          "data": {
            "text/plain": [
              "name                   0\n",
              "seller                 0\n",
              "offerType              0\n",
              "price                  0\n",
              "abtest                 0\n",
              "vehicleType            0\n",
              "yearOfRegistration     0\n",
              "gearbox                0\n",
              "powerPS                0\n",
              "model                  0\n",
              "kilometer              0\n",
              "monthOfRegistration    0\n",
              "fuelType               0\n",
              "brand                  0\n",
              "notRepairedDamage      0\n",
              "nrOfPictures           0\n",
              "postalCode             0\n",
              "dtype: int64"
            ]
          },
          "metadata": {
            "tags": []
          },
          "execution_count": 32
        }
      ]
    },
    {
      "cell_type": "code",
      "metadata": {
        "id": "eDC655dUww2G",
        "colab": {
          "base_uri": "https://localhost:8080/",
          "height": 224
        },
        "outputId": "547d2df2-1fc9-4abe-b34e-ce0fbed78f02"
      },
      "source": [
        "data_df.head()\n"
      ],
      "execution_count": 33,
      "outputs": [
        {
          "output_type": "execute_result",
          "data": {
            "text/html": [
              "<div>\n",
              "<style scoped>\n",
              "    .dataframe tbody tr th:only-of-type {\n",
              "        vertical-align: middle;\n",
              "    }\n",
              "\n",
              "    .dataframe tbody tr th {\n",
              "        vertical-align: top;\n",
              "    }\n",
              "\n",
              "    .dataframe thead th {\n",
              "        text-align: right;\n",
              "    }\n",
              "</style>\n",
              "<table border=\"1\" class=\"dataframe\">\n",
              "  <thead>\n",
              "    <tr style=\"text-align: right;\">\n",
              "      <th></th>\n",
              "      <th>name</th>\n",
              "      <th>seller</th>\n",
              "      <th>offerType</th>\n",
              "      <th>price</th>\n",
              "      <th>abtest</th>\n",
              "      <th>vehicleType</th>\n",
              "      <th>yearOfRegistration</th>\n",
              "      <th>gearbox</th>\n",
              "      <th>powerPS</th>\n",
              "      <th>model</th>\n",
              "      <th>kilometer</th>\n",
              "      <th>monthOfRegistration</th>\n",
              "      <th>fuelType</th>\n",
              "      <th>brand</th>\n",
              "      <th>notRepairedDamage</th>\n",
              "      <th>nrOfPictures</th>\n",
              "      <th>postalCode</th>\n",
              "    </tr>\n",
              "  </thead>\n",
              "  <tbody>\n",
              "    <tr>\n",
              "      <th>0</th>\n",
              "      <td>Golf_3_1.6</td>\n",
              "      <td>private</td>\n",
              "      <td>offer</td>\n",
              "      <td>480</td>\n",
              "      <td>test</td>\n",
              "      <td>small car</td>\n",
              "      <td>1993</td>\n",
              "      <td>manual</td>\n",
              "      <td>0</td>\n",
              "      <td>golf</td>\n",
              "      <td>150000</td>\n",
              "      <td>0</td>\n",
              "      <td>benzin</td>\n",
              "      <td>volkswagen</td>\n",
              "      <td>no</td>\n",
              "      <td>0</td>\n",
              "      <td>70435</td>\n",
              "    </tr>\n",
              "    <tr>\n",
              "      <th>1</th>\n",
              "      <td>A5_Sportback_2.7_Tdi</td>\n",
              "      <td>private</td>\n",
              "      <td>offer</td>\n",
              "      <td>18300</td>\n",
              "      <td>test</td>\n",
              "      <td>coupe</td>\n",
              "      <td>2011</td>\n",
              "      <td>manual</td>\n",
              "      <td>190</td>\n",
              "      <td>golf</td>\n",
              "      <td>125000</td>\n",
              "      <td>5</td>\n",
              "      <td>diesel</td>\n",
              "      <td>audi</td>\n",
              "      <td>yes</td>\n",
              "      <td>0</td>\n",
              "      <td>66954</td>\n",
              "    </tr>\n",
              "    <tr>\n",
              "      <th>2</th>\n",
              "      <td>Jeep_Grand_Cherokee_\"Overland\"</td>\n",
              "      <td>private</td>\n",
              "      <td>offer</td>\n",
              "      <td>9800</td>\n",
              "      <td>test</td>\n",
              "      <td>suv</td>\n",
              "      <td>2004</td>\n",
              "      <td>autombile</td>\n",
              "      <td>163</td>\n",
              "      <td>grand</td>\n",
              "      <td>125000</td>\n",
              "      <td>8</td>\n",
              "      <td>diesel</td>\n",
              "      <td>jeep</td>\n",
              "      <td>no</td>\n",
              "      <td>0</td>\n",
              "      <td>90480</td>\n",
              "    </tr>\n",
              "    <tr>\n",
              "      <th>3</th>\n",
              "      <td>GOLF_4_1_4__3TÜRER</td>\n",
              "      <td>private</td>\n",
              "      <td>offer</td>\n",
              "      <td>1500</td>\n",
              "      <td>test</td>\n",
              "      <td>small car</td>\n",
              "      <td>2001</td>\n",
              "      <td>manual</td>\n",
              "      <td>75</td>\n",
              "      <td>golf</td>\n",
              "      <td>150000</td>\n",
              "      <td>6</td>\n",
              "      <td>benzin</td>\n",
              "      <td>volkswagen</td>\n",
              "      <td>no</td>\n",
              "      <td>0</td>\n",
              "      <td>91074</td>\n",
              "    </tr>\n",
              "    <tr>\n",
              "      <th>4</th>\n",
              "      <td>Skoda_Fabia_1.4_TDI_PD_Classic</td>\n",
              "      <td>private</td>\n",
              "      <td>offer</td>\n",
              "      <td>3600</td>\n",
              "      <td>test</td>\n",
              "      <td>small car</td>\n",
              "      <td>2008</td>\n",
              "      <td>manual</td>\n",
              "      <td>69</td>\n",
              "      <td>fabia</td>\n",
              "      <td>90000</td>\n",
              "      <td>7</td>\n",
              "      <td>diesel</td>\n",
              "      <td>skoda</td>\n",
              "      <td>no</td>\n",
              "      <td>0</td>\n",
              "      <td>60437</td>\n",
              "    </tr>\n",
              "  </tbody>\n",
              "</table>\n",
              "</div>"
            ],
            "text/plain": [
              "                             name   seller  ... nrOfPictures  postalCode\n",
              "0                      Golf_3_1.6  private  ...            0       70435\n",
              "1            A5_Sportback_2.7_Tdi  private  ...            0       66954\n",
              "2  Jeep_Grand_Cherokee_\"Overland\"  private  ...            0       90480\n",
              "3              GOLF_4_1_4__3TÜRER  private  ...            0       91074\n",
              "4  Skoda_Fabia_1.4_TDI_PD_Classic  private  ...            0       60437\n",
              "\n",
              "[5 rows x 17 columns]"
            ]
          },
          "metadata": {
            "tags": []
          },
          "execution_count": 33
        }
      ]
    },
    {
      "cell_type": "code",
      "metadata": {
        "id": "WAyHVOCgw2FU"
      },
      "source": [
        "from sklearn.preprocessing import LabelEncoder\n"
      ],
      "execution_count": 34,
      "outputs": []
    },
    {
      "cell_type": "code",
      "metadata": {
        "id": "n4xD2cAVyHuy"
      },
      "source": [
        "data = data_df.copy()"
      ],
      "execution_count": 35,
      "outputs": []
    },
    {
      "cell_type": "code",
      "metadata": {
        "id": "ntKjKkeqyW7R"
      },
      "source": [
        "data[\"vehicleType\"] =LabelEncoder().fit_transform(data[\"vehicleType\"])\n",
        "data[\"fuelType\"] =LabelEncoder().fit_transform(data[\"fuelType\"])\n",
        "data[\"gearbox\"] =LabelEncoder().fit_transform(data[\"gearbox\"])\n",
        "data[\"notRepairedDamage\"] =LabelEncoder().fit_transform(data[\"notRepairedDamage\"])\n",
        "data[\"brand\"] =LabelEncoder().fit_transform(data[\"brand\"])\n",
        "data[\"model\"] =LabelEncoder().fit_transform(data[\"model\"])\n",
        "data[\"abtest\"] =LabelEncoder().fit_transform(data[\"abtest\"])\n",
        "data[\"vehicleType\"] =LabelEncoder().fit_transform(data[\"vehicleType\"])\n",
        "data[\"fuelType\"] =LabelEncoder().fit_transform(data[\"fuelType\"])\n",
        "data[\"gearbox\"] =LabelEncoder().fit_transform(data[\"gearbox\"])\n",
        "data[\"notRepairedDamage\"] =LabelEncoder().fit_transform(data[\"notRepairedDamage\"])\n",
        "data[\"brand\"] =LabelEncoder().fit_transform(data[\"brand\"])\n",
        "data[\"model\"] =LabelEncoder().fit_transform(data[\"model\"])\n",
        "data[\"abtest\"] =LabelEncoder().fit_transform(data[\"abtest\"])\n",
        "data['postalCode']=LabelEncoder().fit_transform(data['postalCode'])\n",
        "data['seller']=LabelEncoder().fit_transform(data['seller'])\n",
        "data['nrOfPictures']=LabelEncoder().fit_transform(data['nrOfPictures'])\n",
        "data['monthOfRegistration']=LabelEncoder().fit_transform(data['monthOfRegistration'])\n",
        "data['offerType']=LabelEncoder().fit_transform(data['offerType'])\n",
        "data['name']=LabelEncoder().fit_transform(data['name'])\n",
        "data[\"price\"] = LabelEncoder().fit_transform(data['price'])"
      ],
      "execution_count": 36,
      "outputs": []
    },
    {
      "cell_type": "code",
      "metadata": {
        "id": "1wMIW0DGyZZS",
        "colab": {
          "base_uri": "https://localhost:8080/"
        },
        "outputId": "66f3d546-78de-461f-c1a5-498a3488455f"
      },
      "source": [
        "# analysis year o registration\n",
        "data[\"yearOfRegistration\"].describe()"
      ],
      "execution_count": 37,
      "outputs": [
        {
          "output_type": "execute_result",
          "data": {
            "text/plain": [
              "count    371528.000000\n",
              "mean       2004.577997\n",
              "std          92.866598\n",
              "min        1000.000000\n",
              "25%        1999.000000\n",
              "50%        2003.000000\n",
              "75%        2008.000000\n",
              "max        9999.000000\n",
              "Name: yearOfRegistration, dtype: float64"
            ]
          },
          "metadata": {
            "tags": []
          },
          "execution_count": 37
        }
      ]
    },
    {
      "cell_type": "code",
      "metadata": {
        "id": "DgyvWLvLyePD",
        "colab": {
          "base_uri": "https://localhost:8080/"
        },
        "outputId": "289ba7cc-d1a6-45a9-bcb6-552f22d7c4aa"
      },
      "source": [
        "data[data.yearOfRegistration > 2017].shape"
      ],
      "execution_count": 38,
      "outputs": [
        {
          "output_type": "execute_result",
          "data": {
            "text/plain": [
              "(4134, 17)"
            ]
          },
          "metadata": {
            "tags": []
          },
          "execution_count": 38
        }
      ]
    },
    {
      "cell_type": "code",
      "metadata": {
        "id": "iRQFTB4uyg5X",
        "colab": {
          "base_uri": "https://localhost:8080/"
        },
        "outputId": "9cfb14cc-660e-4697-f6cb-0d600aba11fa"
      },
      "source": [
        "data[data.yearOfRegistration < 1950].shape"
      ],
      "execution_count": 39,
      "outputs": [
        {
          "output_type": "execute_result",
          "data": {
            "text/plain": [
              "(289, 17)"
            ]
          },
          "metadata": {
            "tags": []
          },
          "execution_count": 39
        }
      ]
    },
    {
      "cell_type": "code",
      "metadata": {
        "id": "fUoSbsccykhY"
      },
      "source": [
        "data = data[(data.yearOfRegistration < 2017)  & (data.yearOfRegistration > 1950)]\n"
      ],
      "execution_count": 40,
      "outputs": []
    },
    {
      "cell_type": "code",
      "metadata": {
        "id": "eH6yOW04yrKl",
        "colab": {
          "base_uri": "https://localhost:8080/"
        },
        "outputId": "21be1030-4b2f-47b3-8b8b-53455b271b82"
      },
      "source": [
        "data[\"price\"].describe()\n"
      ],
      "execution_count": 41,
      "outputs": [
        {
          "output_type": "execute_result",
          "data": {
            "text/plain": [
              "count    356537.000000\n",
              "mean       1470.343372\n",
              "std        1141.821443\n",
              "min           0.000000\n",
              "25%         550.000000\n",
              "50%        1178.000000\n",
              "75%        2174.000000\n",
              "max        5596.000000\n",
              "Name: price, dtype: float64"
            ]
          },
          "metadata": {
            "tags": []
          },
          "execution_count": 41
        }
      ]
    },
    {
      "cell_type": "code",
      "metadata": {
        "id": "2ahOxMBCytnC",
        "colab": {
          "base_uri": "https://localhost:8080/"
        },
        "outputId": "0de2a075-d583-4682-f503-bde611cb0068"
      },
      "source": [
        "data[data.price < 100].shape\n"
      ],
      "execution_count": 42,
      "outputs": [
        {
          "output_type": "execute_result",
          "data": {
            "text/plain": [
              "(15770, 17)"
            ]
          },
          "metadata": {
            "tags": []
          },
          "execution_count": 42
        }
      ]
    },
    {
      "cell_type": "code",
      "metadata": {
        "id": "t3tUzqJLyxgS",
        "colab": {
          "base_uri": "https://localhost:8080/"
        },
        "outputId": "807e0920-d6d0-4cc3-ea2e-99a9c358b02a"
      },
      "source": [
        "data[data.price > 200000].shape\n"
      ],
      "execution_count": 43,
      "outputs": [
        {
          "output_type": "execute_result",
          "data": {
            "text/plain": [
              "(0, 17)"
            ]
          },
          "metadata": {
            "tags": []
          },
          "execution_count": 43
        }
      ]
    },
    {
      "cell_type": "code",
      "metadata": {
        "id": "Cgr-Nd2Ky0Gj"
      },
      "source": [
        "data = data[(data.price > 100) & (data.price < 200000) ]\n"
      ],
      "execution_count": 44,
      "outputs": []
    },
    {
      "cell_type": "code",
      "metadata": {
        "colab": {
          "base_uri": "https://localhost:8080/",
          "height": 990
        },
        "id": "Od43mw0vmW1k",
        "outputId": "e8cc1f34-9e4b-4605-aa89-5be544ebf04b"
      },
      "source": [
        "corr_matrix = data.corr(method=\"pearson\")\n",
        "plt.figure(figsize=(15, 15))\n",
        "sns.heatmap(corr_matrix, vmin=-1., vmax=1., annot=True, fmt='.2f', cmap=\"YlGnBu\", cbar=True, linewidths=0.5)\n",
        "plt.title(\"pearson correlation\")"
      ],
      "execution_count": 45,
      "outputs": [
        {
          "output_type": "execute_result",
          "data": {
            "text/plain": [
              "Text(0.5, 1.0, 'pearson correlation')"
            ]
          },
          "metadata": {
            "tags": []
          },
          "execution_count": 45
        },
        {
          "output_type": "display_data",
          "data": {
            "image/png": "[encoded data removed]",
            "text/plain": [
              "<Figure size 1080x1080 with 2 Axes>"
            ]
          },
          "metadata": {
            "tags": [],
            "needs_background": "light"
          }
        }
      ]
    },
    {
      "cell_type": "code",
      "metadata": {
        "id": "qYPyORjZmejo",
        "colab": {
          "base_uri": "https://localhost:8080/",
          "height": 330
        },
        "outputId": "9dd44f1d-0678-4b13-a71a-38c9db709355"
      },
      "source": [
        "X = data.drop(\"price\", axis=1).values\n",
        "y = data[\"price\"].values\n",
        "feature_names = data.drop(\"price\", axis=1).columns\n",
        "## p-value\n",
        "selector = SelectKBest(f_regression, k=10).fit(X,y)\n",
        "pvalue_selected_features = feature_names[selector.get_support()]\n",
        "\n",
        "## regularization\n",
        "selector = SelectFromModel(estimator = Ridge(alpha=1.0, fit_intercept=True), \n",
        "                                 max_features=10).fit(X,y)\n",
        "regularization_selected_features = feature_names[selector.get_support()]\n",
        " \n",
        "## plot\n",
        "dtf_features = pd.DataFrame({\"features\":feature_names})\n",
        "dtf_features[\"p_value\"] = dtf_features[\"features\"].apply(lambda x: \"p_value\" if x in pvalue_selected_features else \"\")\n",
        "dtf_features[\"num1\"] = dtf_features[\"features\"].apply(lambda x: 1 if x in pvalue_selected_features else 0)\n",
        "dtf_features[\"regularization\"] = dtf_features[\"features\"].apply(lambda x: \"regularization\" if x in regularization_selected_features else \"\")\n",
        "dtf_features[\"num2\"] = dtf_features[\"features\"].apply(lambda x: 1 if x in regularization_selected_features else 0)\n",
        "dtf_features[\"method\"] = dtf_features[[\"p_value\",\"regularization\"]].apply(lambda x: (x[0]+\" \"+x[1]).strip(), axis=1)\n",
        "dtf_features[\"selection\"] = dtf_features[\"num1\"] + dtf_features[\"num2\"]\n",
        "dtf_features[\"method\"] = dtf_features[\"method\"].apply(lambda x: \"both\" if len(x.split()) == 2 else x)\n",
        "sns.barplot(y=\"features\", x=\"selection\", hue=\"method\", data=dtf_features.sort_values(\"selection\", ascending=False), dodge=False)"
      ],
      "execution_count": 46,
      "outputs": [
        {
          "output_type": "stream",
          "text": [
            "/usr/local/lib/python3.6/dist-packages/sklearn/feature_selection/_univariate_selection.py:299: RuntimeWarning: invalid value encountered in true_divide\n",
            "  corr /= X_norms\n"
          ],
          "name": "stderr"
        },
        {
          "output_type": "execute_result",
          "data": {
            "text/plain": [
              "<matplotlib.axes._subplots.AxesSubplot at 0x7f1b9936f668>"
            ]
          },
          "metadata": {
            "tags": []
          },
          "execution_count": 46
        },
        {
          "output_type": "display_data",
          "data": {
            "image/png": "[encoded data removed]",
            "text/plain": [
              "<Figure size 432x288 with 1 Axes>"
            ]
          },
          "metadata": {
            "tags": [],
            "needs_background": "light"
          }
        }
      ]
    },
    {
      "cell_type": "code",
      "metadata": {
        "colab": {
          "base_uri": "https://localhost:8080/",
          "height": 362
        },
        "id": "BW5jGD_ftciQ",
        "outputId": "867cb556-6772-42bb-fbb6-c14bdc7a69c0"
      },
      "source": [
        "x_ = \"price\"\n",
        "fig, ax = plt.subplots(nrows=1, ncols=2,  sharex=False, sharey=False)\n",
        "fig.suptitle(x_, fontsize=20)\n",
        "### distribution\n",
        "ax[0].title.set_text('distribution')\n",
        "variable = data[x_].fillna(data[x_].mean())\n",
        "breaks = np.quantile(variable, q=np.linspace(0, 1, 11))\n",
        "variable = variable[ (variable > breaks[0]) & (variable < \n",
        "                    breaks[10]) ]\n",
        "sns.distplot(variable, hist=True, kde=True, kde_kws={\"shade\": True}, ax=ax[0])\n",
        "des = data[x_].describe()\n",
        "ax[0].axvline(des[\"25%\"], ls='--')\n",
        "ax[0].axvline(des[\"mean\"], ls='--')\n",
        "ax[0].axvline(des[\"75%\"], ls='--')\n",
        "ax[0].grid(True)\n",
        "des = round(des, 2).apply(lambda x: str(x))\n",
        "box = '\\n'.join((\"min: \"+des[\"min\"], \"25%: \"+des[\"25%\"], \"mean: \"+des[\"mean\"], \"75%: \"+des[\"75%\"], \"max: \"+des[\"max\"]))\n",
        "ax[0].text(0.95, 0.95, box, transform=ax[0].transAxes, fontsize=10, va='top', ha=\"right\", bbox=dict(boxstyle='round', facecolor='white', alpha=1))\n",
        "### boxplot \n",
        "ax[1].title.set_text('outliers (log scale)')\n",
        "tmp_dtf = pd.DataFrame(data[x_])\n",
        "tmp_dtf[x_] = np.log(tmp_dtf[x_])\n",
        "tmp_dtf.boxplot(column=x_, ax=ax[1])\n",
        "plt.show()"
      ],
      "execution_count": 47,
      "outputs": [
        {
          "output_type": "stream",
          "text": [
            "/usr/local/lib/python3.6/dist-packages/seaborn/distributions.py:2557: FutureWarning: `distplot` is a deprecated function and will be removed in a future version. Please adapt your code to use either `displot` (a figure-level function with similar flexibility) or `histplot` (an axes-level function for histograms).\n",
            "  warnings.warn(msg, FutureWarning)\n"
          ],
          "name": "stderr"
        },
        {
          "output_type": "display_data",
          "data": {
            "image/png": "[encoded data removed]",
            "text/plain": [
              "<Figure size 432x288 with 2 Axes>"
            ]
          },
          "metadata": {
            "tags": [],
            "needs_background": "light"
          }
        }
      ]
    },
    {
      "cell_type": "code",
      "metadata": {
        "id": "Mz-vg134y510"
      },
      "source": [
        "x_cols = ['gearbox', 'fuelType', 'notRepairedDamage']\n",
        "\n",
        "y  = data[\"price\"]\n",
        "x =  data[x_cols]"
      ],
      "execution_count": 120,
      "outputs": []
    },
    {
      "cell_type": "code",
      "metadata": {
        "colab": {
          "base_uri": "https://localhost:8080/"
        },
        "id": "GLmrkq2T7dI6",
        "outputId": "7ac8c610-b3ac-49f6-b4c7-53cdf9fa8d9d"
      },
      "source": [
        "# scaling the data\n",
        "from sklearn.preprocessing import StandardScaler\n",
        "\n",
        "data_scale = x\n",
        "data_scale['price'] = y\n",
        "scaler = StandardScaler()\n",
        "data_scale = scaler.fit_transform(data_scale)\n"
      ],
      "execution_count": 49,
      "outputs": [
        {
          "output_type": "stream",
          "text": [
            "/usr/local/lib/python3.6/dist-packages/ipykernel_launcher.py:5: SettingWithCopyWarning: \n",
            "A value is trying to be set on a copy of a slice from a DataFrame.\n",
            "Try using .loc[row_indexer,col_indexer] = value instead\n",
            "\n",
            "See the caveats in the documentation: https://pandas.pydata.org/pandas-docs/stable/user_guide/indexing.html#returning-a-view-versus-a-copy\n",
            "  \"\"\"\n"
          ],
          "name": "stderr"
        }
      ]
    },
    {
      "cell_type": "code",
      "metadata": {
        "id": "Hi0f-p8k-Y74"
      },
      "source": [
        "data_scale = pd.DataFrame(data_scale, columns = x.columns)"
      ],
      "execution_count": 50,
      "outputs": []
    },
    {
      "cell_type": "code",
      "metadata": {
        "colab": {
          "base_uri": "https://localhost:8080/",
          "height": 419
        },
        "id": "vcek4-06-vkE",
        "outputId": "b5df3e74-97c4-47e3-c7fd-da97253337a0"
      },
      "source": [
        "data_scale"
      ],
      "execution_count": 51,
      "outputs": [
        {
          "output_type": "execute_result",
          "data": {
            "text/html": [
              "<div>\n",
              "<style scoped>\n",
              "    .dataframe tbody tr th:only-of-type {\n",
              "        vertical-align: middle;\n",
              "    }\n",
              "\n",
              "    .dataframe tbody tr th {\n",
              "        vertical-align: top;\n",
              "    }\n",
              "\n",
              "    .dataframe thead th {\n",
              "        text-align: right;\n",
              "    }\n",
              "</style>\n",
              "<table border=\"1\" class=\"dataframe\">\n",
              "  <thead>\n",
              "    <tr style=\"text-align: right;\">\n",
              "      <th></th>\n",
              "      <th>gearbox</th>\n",
              "      <th>fuelType</th>\n",
              "      <th>notRepairedDamage</th>\n",
              "      <th>price</th>\n",
              "    </tr>\n",
              "  </thead>\n",
              "  <tbody>\n",
              "    <tr>\n",
              "      <th>0</th>\n",
              "      <td>0.532785</td>\n",
              "      <td>-0.645707</td>\n",
              "      <td>-0.318654</td>\n",
              "      <td>-1.140708</td>\n",
              "    </tr>\n",
              "    <tr>\n",
              "      <th>1</th>\n",
              "      <td>0.532785</td>\n",
              "      <td>1.234059</td>\n",
              "      <td>3.138196</td>\n",
              "      <td>1.824331</td>\n",
              "    </tr>\n",
              "    <tr>\n",
              "      <th>2</th>\n",
              "      <td>-1.876929</td>\n",
              "      <td>1.234059</td>\n",
              "      <td>-0.318654</td>\n",
              "      <td>0.936866</td>\n",
              "    </tr>\n",
              "    <tr>\n",
              "      <th>3</th>\n",
              "      <td>0.532785</td>\n",
              "      <td>-0.645707</td>\n",
              "      <td>-0.318654</td>\n",
              "      <td>-0.749048</td>\n",
              "    </tr>\n",
              "    <tr>\n",
              "      <th>4</th>\n",
              "      <td>0.532785</td>\n",
              "      <td>1.234059</td>\n",
              "      <td>-0.318654</td>\n",
              "      <td>-0.182033</td>\n",
              "    </tr>\n",
              "    <tr>\n",
              "      <th>...</th>\n",
              "      <td>...</td>\n",
              "      <td>...</td>\n",
              "      <td>...</td>\n",
              "      <td>...</td>\n",
              "    </tr>\n",
              "    <tr>\n",
              "      <th>340761</th>\n",
              "      <td>0.532785</td>\n",
              "      <td>-0.645707</td>\n",
              "      <td>-0.318654</td>\n",
              "      <td>-0.546988</td>\n",
              "    </tr>\n",
              "    <tr>\n",
              "      <th>340762</th>\n",
              "      <td>-1.876929</td>\n",
              "      <td>-0.645707</td>\n",
              "      <td>-0.318654</td>\n",
              "      <td>-0.862986</td>\n",
              "    </tr>\n",
              "    <tr>\n",
              "      <th>340763</th>\n",
              "      <td>0.532785</td>\n",
              "      <td>1.234059</td>\n",
              "      <td>-0.318654</td>\n",
              "      <td>0.849633</td>\n",
              "    </tr>\n",
              "    <tr>\n",
              "      <th>340764</th>\n",
              "      <td>0.532785</td>\n",
              "      <td>1.234059</td>\n",
              "      <td>-0.318654</td>\n",
              "      <td>-0.234551</td>\n",
              "    </tr>\n",
              "    <tr>\n",
              "      <th>340765</th>\n",
              "      <td>0.532785</td>\n",
              "      <td>-0.645707</td>\n",
              "      <td>-0.318654</td>\n",
              "      <td>2.479470</td>\n",
              "    </tr>\n",
              "  </tbody>\n",
              "</table>\n",
              "<p>340766 rows × 4 columns</p>\n",
              "</div>"
            ],
            "text/plain": [
              "         gearbox  fuelType  notRepairedDamage     price\n",
              "0       0.532785 -0.645707          -0.318654 -1.140708\n",
              "1       0.532785  1.234059           3.138196  1.824331\n",
              "2      -1.876929  1.234059          -0.318654  0.936866\n",
              "3       0.532785 -0.645707          -0.318654 -0.749048\n",
              "4       0.532785  1.234059          -0.318654 -0.182033\n",
              "...          ...       ...                ...       ...\n",
              "340761  0.532785 -0.645707          -0.318654 -0.546988\n",
              "340762 -1.876929 -0.645707          -0.318654 -0.862986\n",
              "340763  0.532785  1.234059          -0.318654  0.849633\n",
              "340764  0.532785  1.234059          -0.318654 -0.234551\n",
              "340765  0.532785 -0.645707          -0.318654  2.479470\n",
              "\n",
              "[340766 rows x 4 columns]"
            ]
          },
          "metadata": {
            "tags": []
          },
          "execution_count": 51
        }
      ]
    },
    {
      "cell_type": "code",
      "metadata": {
        "id": "rNJBQWJQIcRz"
      },
      "source": [
        "# saving scaled data for input\n",
        "\n",
        "# scale_data = x\n",
        "# scaler = StandardScaler()\n",
        "# scale_data = scaler.fit_transform(scale_data)\n",
        "\n",
        "# # # saving \n",
        "\n",
        "# output = open('scale_data.pkl', 'wb')\n",
        "# pickle.dump(scaler, output)\n",
        "# output.close()\n",
        "\n",
        "# #Loading \n",
        "# file = open('scale_data.pkl', 'rb')\n",
        "# l2 = pickle.load(file)\n",
        "# file.close()\n",
        "# scaleing_data= l2.transform(scaleing_data)\n",
        "\n",
        "\n",
        "# scaling data for output\n",
        "\n",
        "# Y = data[\"price\"]\n",
        "# Y = Y.values.reshape(-1,1)\n",
        "# scaler = StandardScaler()\n",
        "# Y = scaler.fit_transform(Y)\n",
        "\n",
        "\n",
        "# output1 = open('scale_data_y.pkl', 'wb')\n",
        "# pickle.dump(scaler, output1)\n",
        "# output1.close()\n"
      ],
      "execution_count": 123,
      "outputs": []
    },
    {
      "cell_type": "code",
      "metadata": {
        "id": "uao1qIKYFWLP"
      },
      "source": [
        "#data1 = data_df.copy()\n"
      ],
      "execution_count": 99,
      "outputs": []
    },
    {
      "cell_type": "code",
      "metadata": {
        "id": "mVcBu_agDj5o"
      },
      "source": [
        "#saving encoder and scaling for further use\n",
        "\n",
        "# l1 = LabelEncoder()    \n",
        "# data1['gearbox'] = l1.fit_transform(data1['gearbox'])\n",
        "# out1 = open('gearbox_encoder.pkl', 'wb')\n",
        "# pickle.dump(l1, out1)\n",
        "# out1.close()\n",
        "\n",
        "# l2 = LabelEncoder()    \n",
        "# data1['fuelType'] = l2.fit_transform(data1['fuelType'])\n",
        "# out2 = open('fuelType_encoder.pkl', 'wb')\n",
        "# pickle.dump(l2, out2)\n",
        "# out3.close()\n",
        "\n",
        "# l3 = LabelEncoder()    \n",
        "# data1['notRepairedDamage'] = l3.fit_transform(data1['notRepairedDamage'])\n",
        "# out3 = open('notRepairedDamage_encoder.pkl', 'wb')\n",
        "# pickle.dump(l3, out3)\n",
        "# out3.close()\n",
        "\n",
        "# Unloading Encoder\n",
        "\n",
        "# pkl_file2 = open('models/gearbox_encoder.pkl', 'rb')\n",
        "# l2 = pickle.load(pkl_file2)\n",
        "# pkl_file2.close()\n",
        "# gearbox = l2.transform(gearbox)\n",
        "\n",
        "# print(data1['fuelType'])\n",
        "# pkl_file1 = open('fuelType_encoder.pkl', 'rb')\n",
        "# l1 = pickle.load(pkl_file1)\n",
        "# pkl_file1.close()\n",
        "# fuelType = l1.transform(data1['fuelType'])\n",
        "# print(fuelType)\n",
        "\n",
        "# pkl_file3 = open('notRepairedDamage_encoder.pkl', 'rb')\n",
        "# l3 = pickle.load(pkl_file3)\n",
        "# pkl_file3.close()\n",
        "# notRepairedDamage= l3.transform(data1['notRepairedDamage'])\n",
        "\n",
        "\n",
        "\n"
      ],
      "execution_count": 115,
      "outputs": []
    },
    {
      "cell_type": "code",
      "metadata": {
        "colab": {
          "base_uri": "https://localhost:8080/",
          "height": 437
        },
        "id": "szCEeqRzwVRK",
        "outputId": "ba523589-c5a0-4fe8-a85e-e53fe39a33ba"
      },
      "source": [
        "Checking of outliers in FuelType \n",
        "cat, num = \"fuelType\", \"price\"\n",
        "ax[0].title.set_text('outliers')\n",
        "sns.catplot(x=cat, y=num, data=data, kind=\"box\", ax=ax[0])\n",
        "ax[0].grid(True)\n",
        "plt.show()"
      ],
      "execution_count": null,
      "outputs": [
        {
          "output_type": "stream",
          "text": [
            "/usr/local/lib/python3.6/dist-packages/seaborn/categorical.py:3772: UserWarning: catplot is a figure-level function and does not accept target axes. You may wish to try boxplot\n",
            "  warnings.warn(msg, UserWarning)\n"
          ],
          "name": "stderr"
        },
        {
          "output_type": "display_data",
          "data": {
            "image/png": "[encoded data removed]",
            "text/plain": [
              "<Figure size 360x360 with 1 Axes>"
            ]
          },
          "metadata": {
            "tags": [],
            "needs_background": "light"
          }
        }
      ]
    },
    {
      "cell_type": "code",
      "metadata": {
        "colab": {
          "base_uri": "https://localhost:8080/",
          "height": 437
        },
        "id": "-r8gsFe-w_Gq",
        "outputId": "e22e80c3-2e01-44ef-b64a-1e953665cf5d"
      },
      "source": [
        "# Checking of outliers in notRepairedDamage \n",
        "cat, num = \"notRepairedDamage\", \"price\"\n",
        "ax[0].title.set_text('outliers')\n",
        "sns.catplot(x=cat, y=num, data=data, kind=\"box\", ax=ax[0])\n",
        "ax[0].grid(True)\n",
        "plt.show()"
      ],
      "execution_count": null,
      "outputs": [
        {
          "output_type": "stream",
          "text": [
            "/usr/local/lib/python3.6/dist-packages/seaborn/categorical.py:3772: UserWarning: catplot is a figure-level function and does not accept target axes. You may wish to try boxplot\n",
            "  warnings.warn(msg, UserWarning)\n"
          ],
          "name": "stderr"
        },
        {
          "output_type": "display_data",
          "data": {
            "image/png": "[encoded data removed]",
            "text/plain": [
              "<Figure size 360x360 with 1 Axes>"
            ]
          },
          "metadata": {
            "tags": [],
            "needs_background": "light"
          }
        }
      ]
    },
    {
      "cell_type": "code",
      "metadata": {
        "colab": {
          "base_uri": "https://localhost:8080/",
          "height": 437
        },
        "id": "y5BUYy5Cw_UV",
        "outputId": "d4d6490f-d6a4-4e6d-e7ed-4adf6364598a"
      },
      "source": [
        "# Checking of outliers in gearbox \n",
        "cat, num = \"gearbox\", \"price\"\n",
        "ax[0].title.set_text('outliers')\n",
        "sns.catplot(x=cat, y=num, data=data, kind=\"box\", ax=ax[0])\n",
        "ax[0].grid(True)\n",
        "plt.show()"
      ],
      "execution_count": null,
      "outputs": [
        {
          "output_type": "stream",
          "text": [
            "/usr/local/lib/python3.6/dist-packages/seaborn/categorical.py:3772: UserWarning: catplot is a figure-level function and does not accept target axes. You may wish to try boxplot\n",
            "  warnings.warn(msg, UserWarning)\n"
          ],
          "name": "stderr"
        },
        {
          "output_type": "display_data",
          "data": {
            "image/png": "[encoded data removed]",
            "text/plain": [
              "<Figure size 360x360 with 1 Axes>"
            ]
          },
          "metadata": {
            "tags": [],
            "needs_background": "light"
          }
        }
      ]
    },
    {
      "cell_type": "code",
      "metadata": {
        "id": "4d_RI4f-AOxj"
      },
      "source": [
        "y_new  = data_scale[\"price\"]\n",
        "x_new =  data_scale[x_cols]"
      ],
      "execution_count": null,
      "outputs": []
    },
    {
      "cell_type": "code",
      "metadata": {
        "colab": {
          "base_uri": "https://localhost:8080/"
        },
        "id": "iQEUc1IzWHg9",
        "outputId": "15cb1413-44b1-44b1-d976-49355e304c77"
      },
      "source": [
        "# checking skew of the function\n",
        "\n",
        "print(x_new['notRepairedDamage'].skew())\n",
        "x_new['notRepairedDamage'].describe()\n",
        "\n",
        "print(x_new['gearbox'].skew())\n",
        "x_new['gearbox'].describe()\n",
        "\n",
        "print(x_new['fuelType'].skew())\n",
        "x_new['fuelType'].describe()\n",
        "\n",
        "print(y_new.skew())\n",
        "y_new.describe()"
      ],
      "execution_count": null,
      "outputs": [
        {
          "output_type": "stream",
          "text": [
            "2.8195540716372136\n",
            "-1.344149589563439\n",
            "1.404113032007072\n",
            "0.929369934618894\n"
          ],
          "name": "stdout"
        },
        {
          "output_type": "execute_result",
          "data": {
            "text/plain": [
              "count    3.407660e+05\n",
              "mean     5.651716e-16\n",
              "std      1.000001e+00\n",
              "min     -1.278678e+00\n",
              "25%     -8.247098e-01\n",
              "50%     -2.674856e-01\n",
              "75%      6.199785e-01\n",
              "max      3.612611e+00\n",
              "Name: price, dtype: float64"
            ]
          },
          "metadata": {
            "tags": []
          },
          "execution_count": 57
        }
      ]
    },
    {
      "cell_type": "code",
      "metadata": {
        "id": "j1DuqAA_y_zL"
      },
      "source": [
        "\n",
        "x_train, x_test, y_train, y_test = train_test_split(x_new, y_new, random_state = 0)"
      ],
      "execution_count": null,
      "outputs": []
    },
    {
      "cell_type": "code",
      "metadata": {
        "id": "NKkOPd8lJdT5"
      },
      "source": [
        "import sklearn.metrics as metrics\n",
        "def regression_results(y_test, y_pred):\n",
        "\n",
        "    # Regression metrics\n",
        "\n",
        "    mean_absolute_error=metrics.mean_absolute_error(y_test, y_pred) \n",
        "    mse=metrics.mean_squared_error(y_test, y_pred) \n",
        "    median_absolute_error=metrics.median_absolute_error(y_test, y_pred)\n",
        "    \n",
        "    print('MAE: ', round(mean_absolute_error,4))\n",
        "    print('MSE: ', round(mse,4))\n",
        "    print('RMSE: ', round(np.sqrt(mse),4))"
      ],
      "execution_count": null,
      "outputs": []
    },
    {
      "cell_type": "code",
      "metadata": {
        "id": "x-7ip9w8_3xF",
        "colab": {
          "base_uri": "https://localhost:8080/",
          "height": 400
        },
        "outputId": "f33d5262-3b6c-433e-fd34-ab2ff0e87734"
      },
      "source": [
        "# LinearRegressor\n",
        "lin_model = LinearRegression()\n",
        "lin_model.fit(x_train, y_train)\n",
        "y_pred = lin_model.predict(x_test)\n",
        "\n",
        "regression_results(y_test,y_pred)\n",
        "## residuals\n",
        "residuals = y_test - y_pred\n",
        "fig, ax = plt.subplots()\n",
        "sns.distplot(residuals, color=\"red\", hist=True, kde=True, kde_kws={\"shade\":True}, ax=ax)\n",
        "ax.grid(True)\n",
        "ax.set(yticks=[], yticklabels=[], title=\"Residuals distribution\")\n",
        "plt.show()\n",
        "\n"
      ],
      "execution_count": null,
      "outputs": [
        {
          "output_type": "stream",
          "text": [
            "MAE:  0.7179\n",
            "MSE:  0.8079\n",
            "RMSE:  0.8988\n"
          ],
          "name": "stdout"
        },
        {
          "output_type": "stream",
          "text": [
            "/usr/local/lib/python3.6/dist-packages/seaborn/distributions.py:2557: FutureWarning: `distplot` is a deprecated function and will be removed in a future version. Please adapt your code to use either `displot` (a figure-level function with similar flexibility) or `histplot` (an axes-level function for histograms).\n",
            "  warnings.warn(msg, FutureWarning)\n"
          ],
          "name": "stderr"
        },
        {
          "output_type": "display_data",
          "data": {
            "image/png": "[encoded data removed]",
            "text/plain": [
              "<Figure size 432x288 with 1 Axes>"
            ]
          },
          "metadata": {
            "tags": [],
            "needs_background": "light"
          }
        }
      ]
    },
    {
      "cell_type": "code",
      "metadata": {
        "colab": {
          "base_uri": "https://localhost:8080/",
          "height": 400
        },
        "id": "6oB1AzrgqUAn",
        "outputId": "e62b38d7-aeb2-4da6-e82e-059fb786fd3b"
      },
      "source": [
        "# KnnRegressor\n",
        "knn = KNeighborsRegressor()\n",
        "knn.fit(x_train, y_train)\n",
        "y_pred = knn.predict(x_test)\n",
        "regression_results(y_test,y_pred)\n",
        "\n",
        "## residuals\n",
        "residuals = y_test - y_pred\n",
        "fig, ax = plt.subplots()\n",
        "sns.distplot(residuals, color=\"red\", hist=True, kde=True, kde_kws={\"shade\":True}, ax=ax)\n",
        "ax.grid(True)\n",
        "ax.set(yticks=[], yticklabels=[], title=\"Residuals distribution\")\n",
        "plt.show()"
      ],
      "execution_count": null,
      "outputs": [
        {
          "output_type": "stream",
          "text": [
            "MAE:  0.7882\n",
            "MSE:  1.1001\n",
            "RMSE:  1.0488\n"
          ],
          "name": "stdout"
        },
        {
          "output_type": "stream",
          "text": [
            "/usr/local/lib/python3.6/dist-packages/seaborn/distributions.py:2557: FutureWarning: `distplot` is a deprecated function and will be removed in a future version. Please adapt your code to use either `displot` (a figure-level function with similar flexibility) or `histplot` (an axes-level function for histograms).\n",
            "  warnings.warn(msg, FutureWarning)\n"
          ],
          "name": "stderr"
        },
        {
          "output_type": "display_data",
          "data": {
            "image/png": "[encoded data removed]",
            "text/plain": [
              "<Figure size 432x288 with 1 Axes>"
            ]
          },
          "metadata": {
            "tags": [],
            "needs_background": "light"
          }
        }
      ]
    },
    {
      "cell_type": "code",
      "metadata": {
        "colab": {
          "base_uri": "https://localhost:8080/",
          "height": 400
        },
        "id": "GuISTMzUs1-9",
        "outputId": "dedcf5b1-732e-4113-c69d-592192b7070a"
      },
      "source": [
        "# Random forest Regressor\n",
        "random = RandomForestRegressor()\n",
        "random.fit(x_train, y_train)\n",
        "y_pred = random.predict(x_test)\n",
        "regression_results(y_test,y_pred)\n",
        "\n",
        "## residuals\n",
        "residuals = y_test - y_pred\n",
        "fig, ax = plt.subplots()\n",
        "sns.distplot(residuals, color=\"red\", hist=True, kde=True, kde_kws={\"shade\":True}, ax=ax)\n",
        "ax.grid(True)\n",
        "ax.set(yticks=[], yticklabels=[], title=\"Residuals distribution\")\n",
        "plt.show()"
      ],
      "execution_count": null,
      "outputs": [
        {
          "output_type": "stream",
          "text": [
            "MAE:  0.7029\n",
            "MSE:  0.781\n",
            "RMSE:  0.8838\n"
          ],
          "name": "stdout"
        },
        {
          "output_type": "stream",
          "text": [
            "/usr/local/lib/python3.6/dist-packages/seaborn/distributions.py:2557: FutureWarning: `distplot` is a deprecated function and will be removed in a future version. Please adapt your code to use either `displot` (a figure-level function with similar flexibility) or `histplot` (an axes-level function for histograms).\n",
            "  warnings.warn(msg, FutureWarning)\n"
          ],
          "name": "stderr"
        },
        {
          "output_type": "display_data",
          "data": {
            "image/png": "[encoded data removed]",
            "text/plain": [
              "<Figure size 432x288 with 1 Axes>"
            ]
          },
          "metadata": {
            "tags": [],
            "needs_background": "light"
          }
        }
      ]
    },
    {
      "cell_type": "code",
      "metadata": {
        "colab": {
          "base_uri": "https://localhost:8080/",
          "height": 400
        },
        "id": "Y4D0Agg5s79y",
        "outputId": "f10a367f-c9a3-487f-db8b-16ebefcc404f"
      },
      "source": [
        "# Gradient Boosting Regressor\n",
        "reg = GradientBoostingRegressor(random_state=0)\n",
        "reg.fit(x_train, y_train)\n",
        "y_pred = reg.predict(x_test)\n",
        "regression_results(y_test,y_pred)\n",
        "\n",
        "## residuals\n",
        "residuals = y_test - y_pred\n",
        "fig, ax = plt.subplots()\n",
        "sns.distplot(residuals, color=\"red\", hist=True, kde=True, kde_kws={\"shade\":True}, ax=ax)\n",
        "ax.grid(True)\n",
        "ax.set(yticks=[], yticklabels=[], title=\"Residuals distribution\")\n",
        "plt.show()\n"
      ],
      "execution_count": null,
      "outputs": [
        {
          "output_type": "stream",
          "text": [
            "MAE:  0.7029\n",
            "MSE:  0.781\n",
            "RMSE:  0.8837\n"
          ],
          "name": "stdout"
        },
        {
          "output_type": "stream",
          "text": [
            "/usr/local/lib/python3.6/dist-packages/seaborn/distributions.py:2557: FutureWarning: `distplot` is a deprecated function and will be removed in a future version. Please adapt your code to use either `displot` (a figure-level function with similar flexibility) or `histplot` (an axes-level function for histograms).\n",
            "  warnings.warn(msg, FutureWarning)\n"
          ],
          "name": "stderr"
        },
        {
          "output_type": "display_data",
          "data": {
            "image/png": "[encoded data removed]",
            "text/plain": [
              "<Figure size 432x288 with 1 Axes>"
            ]
          },
          "metadata": {
            "tags": [],
            "needs_background": "light"
          }
        }
      ]
    },
    {
      "cell_type": "code",
      "metadata": {
        "id": "UyYhcyp6ppAk"
      },
      "source": [
        "# saving the model\n",
        "\n",
        "import pickle\n",
        "\n",
        "# save the model to disk\n",
        "filename = \"final_model.pkl\"  \n",
        "\n",
        "with open(filename, 'wb') as file:  \n",
        "    pickle.dump(reg, file)\n",
        " \n",
        " \n",
        "# load the model from disk\n",
        "#with open(filename, 'rb') as file:  \n",
        "#    model = pickle.load(file)"
      ],
      "execution_count": null,
      "outputs": []
    },
    {
      "cell_type": "code",
      "metadata": {
        "colab": {
          "base_uri": "https://localhost:8080/",
          "height": 400
        },
        "id": "gfQK7zq4tANa",
        "outputId": "9959f6ec-87cf-4cc9-91a0-73ecde371119"
      },
      "source": [
        "# XGboost Regressor\n",
        "xgb = XGBRegressor(objective='reg:squarederror')\n",
        "xgb.fit(x_train, y_train)\n",
        "y_pred = xgb.predict(x_test)\n",
        "regression_results(y_test,y_pred)\n",
        "\n",
        "\n",
        "## residuals\n",
        "residuals = y_test - y_pred\n",
        "fig, ax = plt.subplots()\n",
        "sns.distplot(residuals, color=\"red\", hist=True, kde=True, kde_kws={\"shade\":True}, ax=ax)\n",
        "ax.grid(True)\n",
        "ax.set(yticks=[], yticklabels=[], title=\"Residuals distribution\")\n",
        "plt.show()"
      ],
      "execution_count": null,
      "outputs": [
        {
          "output_type": "stream",
          "text": [
            "MAE:  0.7029\n",
            "MSE:  0.781\n",
            "RMSE:  0.8837\n"
          ],
          "name": "stdout"
        },
        {
          "output_type": "stream",
          "text": [
            "/usr/local/lib/python3.6/dist-packages/seaborn/distributions.py:2557: FutureWarning: `distplot` is a deprecated function and will be removed in a future version. Please adapt your code to use either `displot` (a figure-level function with similar flexibility) or `histplot` (an axes-level function for histograms).\n",
            "  warnings.warn(msg, FutureWarning)\n"
          ],
          "name": "stderr"
        },
        {
          "output_type": "display_data",
          "data": {
            "image/png": "[encoded data removed]",
            "text/plain": [
              "<Figure size 432x288 with 1 Axes>"
            ]
          },
          "metadata": {
            "tags": [],
            "needs_background": "light"
          }
        }
      ]
    },
    {
      "cell_type": "code",
      "metadata": {
        "colab": {
          "base_uri": "https://localhost:8080/",
          "height": 400
        },
        "id": "vKp7tj6etEVI",
        "outputId": "37e23ae7-cb39-42e7-89ea-ea4f60494f78"
      },
      "source": [
        "# Multilayer perceptron \n",
        "from sklearn.neural_network import MLPRegressor\n",
        "\n",
        "regr = MLPRegressor(random_state=1, max_iter=100).fit(x_train, y_train)\n",
        "y_pred = regr.predict(x_test)\n",
        "regression_results(y_test,y_pred)\n",
        "\n",
        "## residuals\n",
        "residuals = y_test - y_pred\n",
        "fig, ax = plt.subplots()\n",
        "sns.distplot(residuals, color=\"red\", hist=True, kde=True, kde_kws={\"shade\":True}, ax=ax)\n",
        "ax.grid(True)\n",
        "ax.set(yticks=[], yticklabels=[], title=\"Residuals distribution\")\n",
        "plt.show()"
      ],
      "execution_count": null,
      "outputs": [
        {
          "output_type": "stream",
          "text": [
            "MAE:  0.7063\n",
            "MSE:  0.7817\n",
            "RMSE:  0.8841\n"
          ],
          "name": "stdout"
        },
        {
          "output_type": "stream",
          "text": [
            "/usr/local/lib/python3.6/dist-packages/seaborn/distributions.py:2557: FutureWarning: `distplot` is a deprecated function and will be removed in a future version. Please adapt your code to use either `displot` (a figure-level function with similar flexibility) or `histplot` (an axes-level function for histograms).\n",
            "  warnings.warn(msg, FutureWarning)\n"
          ],
          "name": "stderr"
        },
        {
          "output_type": "display_data",
          "data": {
            "image/png": "[encoded data removed]",
            "text/plain": [
              "<Figure size 432x288 with 1 Axes>"
            ]
          },
          "metadata": {
            "tags": [],
            "needs_background": "light"
          }
        }
      ]
    }
  ]
}